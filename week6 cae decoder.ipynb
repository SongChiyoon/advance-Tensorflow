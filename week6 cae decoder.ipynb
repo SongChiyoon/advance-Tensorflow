{
 "cells": [
  {
   "cell_type": "markdown",
   "metadata": {
    "collapsed": true
   },
   "source": [
    "# Convolutional auto encoder"
   ]
  },
  {
   "cell_type": "code",
   "execution_count": 1,
   "metadata": {
    "collapsed": true
   },
   "outputs": [],
   "source": [
    "import matplotlib.pyplot as plt\n",
    "import tensorflow as tf\n",
    "import numpy as np\n",
    "import math\n",
    "import tensorflow.examples.tutorials.mnist.input_data as input_data\n",
    "%matplotlib inline"
   ]
  },
  {
   "cell_type": "code",
   "execution_count": 2,
   "metadata": {
    "collapsed": false
   },
   "outputs": [
    {
     "name": "stdout",
     "output_type": "stream",
     "text": [
      "Extracting data/train-images-idx3-ubyte.gz\n",
      "Extracting data/train-labels-idx1-ubyte.gz\n",
      "Extracting data/t10k-images-idx3-ubyte.gz\n",
      "Extracting data/t10k-labels-idx1-ubyte.gz\n",
      "(55000, 784)\n"
     ]
    }
   ],
   "source": [
    "mnist = input_data.read_data_sets('data/', one_hot=True)\n",
    "trainimgs = mnist.train.images\n",
    "print(trainimgs.shape)\n",
    "trainlabels = mnist.train.labels\n",
    "testimgs = mnist.test.images\n",
    "testlabels = mnist.test.labels\n",
    "n_train = trainimgs.shape[0]\n",
    "n_test = testimgs.shape[0]\n",
    "dim = trainimgs.shape[1]"
   ]
  },
  {
   "cell_type": "markdown",
   "metadata": {},
   "source": [
    "# Define Networks"
   ]
  },
  {
   "cell_type": "code",
   "execution_count": 3,
   "metadata": {
    "collapsed": false
   },
   "outputs": [
    {
     "name": "stdout",
     "output_type": "stream",
     "text": [
      "784\n"
     ]
    }
   ],
   "source": [
    "n1 = 16\n",
    "n2 = 32\n",
    "n3 = 64\n",
    "ksize = 6\n",
    "stddev = 0.1\n",
    "w = {\n",
    "    'c1': tf.Variable(tf.random_normal([ksize, ksize, 1, n1], stddev=stddev)),\n",
    "    'c2': tf.Variable(tf.random_normal([ksize, ksize, n1, n2], stddev=stddev)),\n",
    "    'c3': tf.Variable(tf.random_normal([ksize, ksize, n2, n3], stddev=stddev)),\n",
    "    'cd3': tf.Variable(tf.random_normal([ksize, ksize, n2, n3], stddev=stddev)), #deconv weights\n",
    "    'cd2': tf.Variable(tf.random_normal([ksize, ksize, n1, n2], stddev=stddev)),\n",
    "    'cd1': tf.Variable(tf.random_normal([ksize, ksize, 1, n1], stddev=stddev))\n",
    "}\n",
    "b = {\n",
    "    'b1': tf.Variable(tf.random_normal([n1], stddev=stddev)),\n",
    "    'b2': tf.Variable(tf.random_normal([n2], stddev=stddev)),\n",
    "    'b3': tf.Variable(tf.random_normal([n3], stddev=stddev)),\n",
    "    'bd3': tf.Variable(tf.random_normal([n2], stddev=stddev)),\n",
    "    'bd2': tf.Variable(tf.random_normal([n1], stddev=stddev)),\n",
    "    'bd1': tf.Variable(tf.random_normal([1], stddev=stddev)),\n",
    "}\n",
    "print(trainimgs.shape[1])"
   ]
  },
  {
   "cell_type": "code",
   "execution_count": 4,
   "metadata": {
    "collapsed": false
   },
   "outputs": [
    {
     "name": "stdout",
     "output_type": "stream",
     "text": [
      "Build Network\n"
     ]
    }
   ],
   "source": [
    "def cae(_x, _w, _b, _keepprob):\n",
    "    _input = tf.reshape(_x,shape=[-1,28,28,1])\n",
    "    #Encoder\n",
    "    _ce1 = tf.nn.sigmoid(tf.add(tf.nn.conv2d(_input, _w['c1'], strides=[1,2,2,1], padding=\"SAME\"),_b['b1']))\n",
    "    _ce1 = tf.nn.dropout(_ce1, _keepprob)\n",
    "    _ce2 = tf.nn.sigmoid(tf.add(tf.nn.conv2d(_ce1, _w['c2'], strides=[1,2,2,1], padding=\"SAME\"), _b['b2']))\n",
    "    _ce2 = tf.nn.dropout(_ce2, _keepprob)\n",
    "    _ce3 = tf.nn.sigmoid(tf.add(tf.nn.conv2d(_ce2, _w['c3'], strides=[1,2,2,1], padding=\"SAME\"), _b['b3']))\n",
    "    _ce3 = tf.nn.dropout(_ce3, _keepprob)\n",
    "    \n",
    "    #Decoder\n",
    "    _cd3 = tf.nn.sigmoid(tf.add(tf.nn.conv2d_transpose(_ce3, _w['cd3'], \n",
    "                                                       tf.stack([tf.shape(_x)[0],7,7,n2]), strides=[1,2,2,1],\n",
    "                                                      padding = 'SAME'), _b['bd3']))\n",
    "    #tf.pack -> tf.stack / tf.unpack -> tf.unstack 로 바뀜\n",
    "    _cd3 = tf.nn.dropout(_cd3, _keepprob)\n",
    "    _cd2 = tf.nn.sigmoid(tf.add(tf.nn.conv2d_transpose(_cd3, _w['cd2'], \n",
    "                                                       tf.stack([tf.shape(_x)[0],14,14,n1]), strides=[1,2,2,1],\n",
    "                                                      padding = 'SAME'), _b['bd2']))\n",
    "    _cd2 = tf.nn.dropout(_cd2, _keepprob)\n",
    "    _cd1 = tf.nn.sigmoid(tf.add(tf.nn.conv2d_transpose(_cd2, _w['cd1'], \n",
    "                                                       tf.stack([tf.shape(_x)[0],28,28,1]), strides=[1,2,2,1],\n",
    "                                                      padding = 'SAME'), _b['bd1']))\n",
    "    _out = tf.nn.dropout(_cd1, _keepprob)\n",
    "    return _out\n",
    "print('Build Network')"
   ]
  },
  {
   "cell_type": "markdown",
   "metadata": {},
   "source": [
    "# Define Functions"
   ]
  },
  {
   "cell_type": "code",
   "execution_count": null,
   "metadata": {
    "collapsed": false
   },
   "outputs": [
    {
     "name": "stdout",
     "output_type": "stream",
     "text": [
      "function ready\n"
     ]
    }
   ],
   "source": [
    "x = tf.placeholder(tf.float32, [None, 784])\n",
    "y = tf.placeholder(tf.float32, [None, 784])\n",
    "keepprob = tf.placeholder(tf.float32)\n",
    "pred = cae(x, w, b, keepprob)\n",
    "cost = tf.reduce_sum(tf.square(pred - tf.reshape(y, [-1,28,28,1])))\n",
    "optm = tf.train.AdamOptimizer(learning_rate=0.001).minimize(cost)\n",
    "init = tf.global_variables_initializer()\n",
    "sess = tf.Session()\n",
    "sess.run(init)\n",
    "print(\"function ready\")"
   ]
  },
  {
   "cell_type": "code",
   "execution_count": null,
   "metadata": {
    "collapsed": false
   },
   "outputs": [
    {
     "name": "stdout",
     "output_type": "stream",
     "text": [
      "1391.08\n"
     ]
    },
    {
     "name": "stderr",
     "output_type": "stream",
     "text": [
      "/usr/lib/pymodules/python2.7/matplotlib/collections.py:548: FutureWarning: elementwise comparison failed; returning scalar instead, but in the future will perform elementwise comparison\n",
      "  if self._edgecolors == 'face':\n"
     ]
    },
    {
     "data": {
      "image/png": "[encoded data removed]",
      "text/plain": [
       "<matplotlib.figure.Figure at 0x7f5743720890>"
      ]
     },
     "metadata": {},
     "output_type": "display_data"
    },
    {
     "data": {
      "image/png": "[encoded data removed]",
      "text/plain": [
       "<matplotlib.figure.Figure at 0x7f56f7e56190>"
      ]
     },
     "metadata": {},
     "output_type": "display_data"
    },
    {
     "data": {
      "image/png": "[encoded data removed]",
      "text/plain": [
       "<matplotlib.figure.Figure at 0x7f56f9deda50>"
      ]
     },
     "metadata": {},
     "output_type": "display_data"
    }
   ],
   "source": [
    "epochs = 20\n",
    "batch_size = 50\n",
    "for epoch in range(epochs):\n",
    "    for batch_i in range(int(mnist.train.num_examples/batch_size)):\n",
    "        batch_xs, _ = mnist.train.next_batch(batch_size)\n",
    "        xs_noise = batch_xs + 0.3*np.random.randn(batch_xs.shape[0], 784)\n",
    "        sess.run(optm, feed_dict={x : xs_noise, y : batch_xs, keepprob : 0.7})\n",
    "    print(sess.run(cost, feed_dict={x : xs_noise, y : batch_xs, keepprob : 1}))\n",
    "    \n",
    "    if(epoch%1) == 0:\n",
    "        randidx  = np.random.randint(testimgs.shape[0], size=1)\n",
    "        testvec  = testimgs[randidx, :]\n",
    "        noisyvec = testvec + 0.3*np.random.randn(1, 784)\n",
    "        outvec   = sess.run(pred, feed_dict={x: noisyvec, keepprob: 1.})\n",
    "        outimg   = np.reshape(outvec, (28, 28))\n",
    "\n",
    "        # PLOT \n",
    "        plt.matshow(np.reshape(testvec, (28, 28)), cmap=plt.get_cmap('gray'))\n",
    "        plt.title(\"[\" + str(epoch) + \"] Original Image\")\n",
    "        plt.colorbar()\n",
    "        plt.matshow(np.reshape(noisyvec, (28, 28)), cmap=plt.get_cmap('gray'))\n",
    "        plt.title(\"[\" + str(epoch) + \"] Input Image\")\n",
    "        plt.colorbar()\n",
    "        plt.matshow(outimg, cmap=plt.get_cmap('gray'))\n",
    "        plt.title(\"[\" + str(epoch) + \"] Reconstructed Image\")\n",
    "        plt.colorbar()\n",
    "        plt.show()\n",
    "print(\"training done\")  "
   ]
  },
  {
   "cell_type": "code",
   "execution_count": null,
   "metadata": {
    "collapsed": true
   },
   "outputs": [],
   "source": []
  }
 ],
 "metadata": {
  "kernelspec": {
   "display_name": "Python 2",
   "language": "python",
   "name": "python2"
  },
  "language_info": {
   "codemirror_mode": {
    "name": "ipython",
    "version": 2
   },
   "file_extension": ".py",
   "mimetype": "text/x-python",
   "name": "python",
   "nbconvert_exporter": "python",
   "pygments_lexer": "ipython2",
   "version": "2.7.6"
  }
 },
 "nbformat": 4,
 "nbformat_minor": 0
}
