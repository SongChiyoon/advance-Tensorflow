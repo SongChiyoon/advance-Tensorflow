{
 "cells": [
  {
   "cell_type": "code",
   "execution_count": 3,
   "metadata": {
    "collapsed": false
   },
   "outputs": [],
   "source": [
    "import numpy as np\n",
    "import tensorflow as tf\n",
    "import matplotlib.pyplot as plt\n",
    "from tensorflow.examples.tutorials.mnist import input_data"
   ]
  },
  {
   "cell_type": "markdown",
   "metadata": {},
   "source": [
    "# Make logistic Regression model with MNIST"
   ]
  },
  {
   "cell_type": "code",
   "execution_count": 4,
   "metadata": {
    "collapsed": false
   },
   "outputs": [
    {
     "name": "stdout",
     "output_type": "stream",
     "text": [
      "Successfully downloaded train-images-idx3-ubyte.gz 9912422 bytes.\n",
      "Extracting data/train-images-idx3-ubyte.gz\n",
      "Successfully downloaded train-labels-idx1-ubyte.gz 28881 bytes.\n",
      "Extracting data/train-labels-idx1-ubyte.gz\n",
      "Successfully downloaded t10k-images-idx3-ubyte.gz 1648877 bytes.\n",
      "Extracting data/t10k-images-idx3-ubyte.gz\n",
      "Successfully downloaded t10k-labels-idx1-ubyte.gz 4542 bytes.\n",
      "Extracting data/t10k-labels-idx1-ubyte.gz\n",
      "MNIST Loaded\n"
     ]
    }
   ],
   "source": [
    "mnist = input_data.read_data_sets('data/',one_hot = True)\n",
    "trainimg = mnist.train.images\n",
    "trainLabel = mnist.train.labels\n",
    "testimg = mnist.test.images\n",
    "testLabel = mnist.test.labels\n",
    "print(\"MNIST Loaded\")"
   ]
  },
  {
   "cell_type": "code",
   "execution_count": 8,
   "metadata": {
    "collapsed": false
   },
   "outputs": [],
   "source": [
    "x = tf.placeholder('float', [None, 784])\n",
    "y = tf.placeholder('float', [None, 10])\n",
    "w = tf.Variable(tf.random_normal([784,10]))\n",
    "b = tf.Variable(tf.random_normal([10]))\n",
    "#Logistic Regression Model\n",
    "activ = tf.nn.softmax(tf.matmul(x,w)+b)\n",
    "#cost function\n",
    "cost = tf.reduce_mean(-tf.reduce_sum(y*tf.log(activ)))\n",
    "#optimizer\n",
    "optm = tf.train.GradientDescentOptimizer(0.01).minimize(cost)"
   ]
  },
  {
   "cell_type": "code",
   "execution_count": 9,
   "metadata": {
    "collapsed": true
   },
   "outputs": [],
   "source": [
    "#prediction\n",
    "pred = tf.equal(tf.arg_max(activ,1), tf.arg_max(y, 1))\n",
    "#accuracy\n",
    "accr = tf.reduce_mean(tf.cast(pred, \"float\"))\n",
    "init = tf.initialize_all_variables"
   ]
  },
  {
   "cell_type": "code",
   "execution_count": 13,
   "metadata": {
    "collapsed": false
   },
   "outputs": [
    {
     "name": "stdout",
     "output_type": "stream",
     "text": [
      "Epoch: 000/010 cost: 75.560586708 train_acc: 0.910 test_acc: 0.865\n",
      "Epoch: 002/010 cost: 32.222071790 train_acc: 0.910 test_acc: 0.895\n",
      "Epoch: 004/010 cost: 27.124585262 train_acc: 0.930 test_acc: 0.903\n",
      "Epoch: 006/010 cost: 24.715282281 train_acc: 0.940 test_acc: 0.911\n",
      "Epoch: 008/010 cost: 23.033731372 train_acc: 0.910 test_acc: 0.914\n",
      "DONE\n"
     ]
    }
   ],
   "source": [
    "training_epochs = 10\n",
    "batch_size      = 100\n",
    "display_step    = 2\n",
    "# SESSION\n",
    "sess = tf.Session()\n",
    "sess.run(tf.initialize_all_variables())\n",
    "# MINI-BATCH LEARNING\n",
    "for epoch in range(training_epochs):\n",
    "    avg_cost = 0.\n",
    "    num_batch = int(mnist.train.num_examples/batch_size)\n",
    "    for i in range(num_batch): \n",
    "        batch_xs, batch_ys = mnist.train.next_batch(batch_size)\n",
    "        sess.run(optm, feed_dict={x: batch_xs, y: batch_ys})\n",
    "        feeds = {x: batch_xs, y: batch_ys}\n",
    "        avg_cost += sess.run(cost, feed_dict=feeds)/num_batch\n",
    "    # DISPLAY\n",
    "    if epoch % display_step == 0:\n",
    "        feeds_train = {x: batch_xs, y: batch_ys}\n",
    "        feeds_test = {x: mnist.test.images, y: mnist.test.labels}\n",
    "        train_acc = sess.run(accr, feed_dict=feeds_train)\n",
    "        test_acc = sess.run(accr, feed_dict=feeds_test)\n",
    "        print (\"Epoch: %03d/%03d cost: %.9f train_acc: %.3f test_acc: %.3f\" \n",
    "               % (epoch, training_epochs, avg_cost, train_acc, test_acc))\n",
    "print (\"DONE\")"
   ]
  },
  {
   "cell_type": "code",
   "execution_count": null,
   "metadata": {
    "collapsed": true
   },
   "outputs": [],
   "source": []
  }
 ],
 "metadata": {
  "kernelspec": {
   "display_name": "Python 3",
   "language": "python",
   "name": "python3"
  },
  "language_info": {
   "codemirror_mode": {
    "name": "ipython",
    "version": 3
   },
   "file_extension": ".py",
   "mimetype": "text/x-python",
   "name": "python",
   "nbconvert_exporter": "python",
   "pygments_lexer": "ipython3",
   "version": "3.4.3"
  }
 },
 "nbformat": 4,
 "nbformat_minor": 0
}
