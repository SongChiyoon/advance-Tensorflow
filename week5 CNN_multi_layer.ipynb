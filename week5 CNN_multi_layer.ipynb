{
 "cells": [
  {
   "cell_type": "code",
   "execution_count": 1,
   "metadata": {
    "collapsed": true
   },
   "outputs": [],
   "source": [
    "import numpy as np\n",
    "import tensorflow as tf\n",
    "from tensorflow.examples.tutorials.mnist import input_data\n",
    "import matplotlib.pyplot as plt\n",
    "%matplotlib inline"
   ]
  },
  {
   "cell_type": "markdown",
   "metadata": {},
   "source": [
    "# Load MNIST"
   ]
  },
  {
   "cell_type": "code",
   "execution_count": 2,
   "metadata": {
    "collapsed": false
   },
   "outputs": [
    {
     "name": "stdout",
     "output_type": "stream",
     "text": [
      "Extracting data/train-images-idx3-ubyte.gz\n",
      "Extracting data/train-labels-idx1-ubyte.gz\n",
      "Extracting data/t10k-images-idx3-ubyte.gz\n",
      "Extracting data/t10k-labels-idx1-ubyte.gz\n",
      "MNIST ready\n"
     ]
    }
   ],
   "source": [
    "mnist = input_data.read_data_sets('data/', one_hot=True)\n",
    "trainimg   = mnist.train.images\n",
    "trainlabel = mnist.train.labels\n",
    "testimg    = mnist.test.images\n",
    "testlabel  = mnist.test.labels\n",
    "print (\"MNIST ready\")"
   ]
  },
  {
   "cell_type": "code",
   "execution_count": 3,
   "metadata": {
    "collapsed": false
   },
   "outputs": [
    {
     "name": "stdout",
     "output_type": "stream",
     "text": [
      "NETWORK READY\n"
     ]
    }
   ],
   "source": [
    "# NETWORK TOPOLOGIES\n",
    "n_input    = 784\n",
    "n_channel  = 64 \n",
    "n_channel2 = 128\n",
    "n_classes  = 10  \n",
    "\n",
    "# INPUTS AND OUTPUTS\n",
    "x = tf.placeholder(\"float\", [None, n_input])\n",
    "y = tf.placeholder(\"float\", [None, n_classes])\n",
    "    \n",
    "# NETWORK PARAMETERS\n",
    "stddev = 0.1\n",
    "w = {\n",
    "    'c1': tf.Variable(tf.truncated_normal([3, 3, 1, n_channel], stddev=stddev)),\n",
    "    'c2': tf.Variable(tf.truncated_normal([3, 3, n_channel, n_channel2], stddev=stddev)),\n",
    "    'd1': tf.Variable(tf.truncated_normal([7*7*n_channel2, n_classes], stddev=stddev))\n",
    "}\n",
    "b = {\n",
    "    'c1': tf.Variable(tf.random_normal([n_channel], stddev=stddev)),\n",
    "    'c2': tf.Variable(tf.random_normal([n_channel2], stddev=stddev)),\n",
    "    'd1': tf.Variable(tf.random_normal([n_classes], stddev=stddev))\n",
    "}\n",
    "print (\"NETWORK READY\")"
   ]
  },
  {
   "cell_type": "code",
   "execution_count": 4,
   "metadata": {
    "collapsed": true
   },
   "outputs": [],
   "source": [
    "def CNN(_input, _w, _b):\n",
    "    _input_r = tf.reshape(_input, shape=[-1,28,28,1])\n",
    "    #Layer1\n",
    "    conv1 = tf.nn.conv2d(_input_r, _w['c1'], strides=[1,1,1,1], padding=\"SAME\")\n",
    "    _mean, _val = tf.nn.moments(conv1, [0,1,2])\n",
    "    conv1 = tf.nn.bias_add(conv1, _b['c1'])\n",
    "    conv1 = tf.nn.relu(conv1)\n",
    "    _pool1 = tf.nn.max_pool(conv1, ksize=[1,2,2,1], strides=[1,2,2,1], padding=\"SAME\")\n",
    "    \n",
    "    #Layer2\n",
    "    conv2 = tf.nn.conv2d(_pool1, _w['c2'], strides=[1,1,1,1], padding=\"SAME\")\n",
    "    conv2 = tf.nn.bias_add(conv2, _b['c2'])\n",
    "    conv2 = tf.nn.relu(conv2)\n",
    "    _pool2 = tf.nn.max_pool(conv2, ksize=[1,2,2,1], strides=[1,2,2,1], padding=\"SAME\")\n",
    "    \n",
    "    #fully connected\n",
    "    _dense = tf.reshape(_pool2, [-1, 7*7*128])\n",
    "    _out = tf.add(tf.matmul(_dense, _w['d1']), _b['d1'])\n",
    "    \n",
    "    out = {\n",
    "        'out':_out\n",
    "    }\n",
    "    return out\n",
    "    "
   ]
  },
  {
   "cell_type": "code",
   "execution_count": 5,
   "metadata": {
    "collapsed": false
   },
   "outputs": [],
   "source": [
    "X = tf.placeholder(tf.float32, [None, 784])\n",
    "Y = tf.placeholder(tf.float32, [None, 10])\n",
    "\n",
    "learning_rate = 0.01\n",
    "epoch_size = 5\n",
    "batch_size = 100\n",
    "show_step = 2\n",
    "save_step = 1\n",
    "\n",
    "pred = CNN(X, w, b)['out']\n",
    "cost = tf.reduce_mean(tf.nn.softmax_cross_entropy_with_logits(logits=pred, labels=Y))\n",
    "optm = tf.train.AdamOptimizer(learning_rate).minimize(cost)\n",
    "_cor = tf.equal(tf.arg_max(Y,1), tf.arg_max(pred, 1))\n",
    "accr = tf.reduce_mean(tf.cast(_cor, tf.float32))\n",
    "init = tf.initialize_all_variables()\n",
    "sess = tf.Session()\n",
    "sess.run(init)\n",
    "\n",
    "saver = tf.train.Saver(max_to_keep=3)"
   ]
  },
  {
   "cell_type": "code",
   "execution_count": 7,
   "metadata": {
    "collapsed": false
   },
   "outputs": [
    {
     "name": "stdout",
     "output_type": "stream",
     "text": [
      "train accuracy : 0.970\n",
      "test accuracy : 0.982\n",
      "train accuracy : 0.980\n",
      "test accuracy : 0.986\n",
      "train accuracy : 0.990\n",
      "test accuracy : 0.987\n",
      "finish training\n"
     ]
    }
   ],
   "source": [
    "for epoch in range(epoch_size):\n",
    "    total_batch = int(mnist.train.num_examples/batch_size)\n",
    "    avg_cost = 0\n",
    "    for step in range(total_batch):\n",
    "        batch_xs, batch_ys = mnist.train.next_batch(batch_size)\n",
    "        sess.run(optm, feed_dict={X:batch_xs, Y : batch_ys})\n",
    "        avg_cost += sess.run(cost, feed_dict={X:batch_xs, Y : batch_ys})\n",
    "        \n",
    "    if epoch % show_step == 0:\n",
    "        train_accr = sess.run(accr, feed_dict={X:batch_xs, Y : batch_ys})\n",
    "        print(\"train accuracy : %.3f\" % train_accr)\n",
    "        test_accr = sess.run(accr, feed_dict={X:mnist.test.images, Y:mnist.test.labels})\n",
    "        print(\"test accuracy : %.3f\" % test_accr)\n",
    "    if epoch % save_step == 0:\n",
    "        saver.save(sess, 'nets/cnn_modern.ckpt-'+str(epoch))\n",
    "print(\"finish training\")"
   ]
  },
  {
   "cell_type": "code",
   "execution_count": null,
   "metadata": {
    "collapsed": true
   },
   "outputs": [],
   "source": []
  }
 ],
 "metadata": {
  "kernelspec": {
   "display_name": "Python 3",
   "language": "python",
   "name": "python3"
  },
  "language_info": {
   "codemirror_mode": {
    "name": "ipython",
    "version": 3
   },
   "file_extension": ".py",
   "mimetype": "text/x-python",
   "name": "python",
   "nbconvert_exporter": "python",
   "pygments_lexer": "ipython3",
   "version": "3.4.3"
  }
 },
 "nbformat": 4,
 "nbformat_minor": 0
}
