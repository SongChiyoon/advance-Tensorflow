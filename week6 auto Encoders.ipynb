{
 "cells": [
  {
   "cell_type": "code",
   "execution_count": 7,
   "metadata": {
    "collapsed": false
   },
   "outputs": [
    {
     "name": "stdout",
     "output_type": "stream",
     "text": [
      "PACKAGES LOADED\n"
     ]
    }
   ],
   "source": [
    "#label이 없는 유의미한 feature만 뽑아내는데 사용함\n",
    "import numpy as np\n",
    "import tensorflow as tf\n",
    "import matplotlib.pyplot as plt\n",
    "from tensorflow.examples.tutorials.mnist import input_data\n",
    "%matplotlib inline  \n",
    "print (\"PACKAGES LOADED\")"
   ]
  },
  {
   "cell_type": "markdown",
   "metadata": {},
   "source": [
    "# MNIST"
   ]
  },
  {
   "cell_type": "code",
   "execution_count": 8,
   "metadata": {
    "collapsed": false
   },
   "outputs": [
    {
     "name": "stdout",
     "output_type": "stream",
     "text": [
      "Extracting data/train-images-idx3-ubyte.gz\n",
      "Extracting data/train-labels-idx1-ubyte.gz\n",
      "Extracting data/t10k-images-idx3-ubyte.gz\n",
      "Extracting data/t10k-labels-idx1-ubyte.gz\n"
     ]
    }
   ],
   "source": [
    "mnist = input_data.read_data_sets('data/', one_hot=True)\n",
    "trainimg   = mnist.train.images\n",
    "trainlabel = mnist.train.labels\n",
    "testimg    = mnist.test.images\n",
    "testlabel  = mnist.test.labels"
   ]
  },
  {
   "cell_type": "markdown",
   "metadata": {},
   "source": [
    "# Define Network"
   ]
  },
  {
   "cell_type": "code",
   "execution_count": 11,
   "metadata": {
    "collapsed": false
   },
   "outputs": [
    {
     "name": "stdout",
     "output_type": "stream",
     "text": [
      "NETWORK READY\n"
     ]
    }
   ],
   "source": [
    "# Network Parameters\n",
    "n_input    = 784 # MNIST data input (img shape: 28*28)\n",
    "n_hidden_1 = 256 # 1st layer num features\n",
    "n_hidden_center = 128 # 3rd layer \n",
    "n_hidden_2 = 256 # 2nd layer num features\n",
    "n_output   = 784 # \n",
    "# tf Graph input\n",
    "x = tf.placeholder(\"float\", [None, n_input])\n",
    "y = tf.placeholder(\"float\", [None, n_output])\n",
    "dropout_keep_prob = tf.placeholder(\"float\")\n",
    "# Store layers weight & bias\n",
    "weights = {\n",
    "    'h1': tf.Variable(tf.random_normal([n_input, n_hidden_1])),\n",
    "    'hc': tf.Variable(tf.random_normal([n_hidden_1, n_hidden_center])),\n",
    "    'h2': tf.Variable(tf.random_normal([n_hidden_center, n_hidden_2])),\n",
    "    'out': tf.Variable(tf.random_normal([n_hidden_2, n_output]))\n",
    "}\n",
    "biases = {\n",
    "    'b1': tf.Variable(tf.random_normal([n_hidden_1])),\n",
    "    'bc': tf.Variable(tf.random_normal([n_hidden_center])),\n",
    "    'b2': tf.Variable(tf.random_normal([n_hidden_2])),\n",
    "    'out': tf.Variable(tf.random_normal([n_output]))\n",
    "}\n",
    "# Create model\n",
    "def denoising_autoencoder(_X, _weights, _biases, _keep_prob):\n",
    "    layer_1 = tf.nn.sigmoid(tf.add(tf.matmul(_X, _weights['h1']), _biases['b1'])) \n",
    "    layer_1out = tf.nn.dropout(layer_1, _keep_prob) \n",
    "    \n",
    "    layer_c = tf.nn.sigmoid(tf.add(tf.matmul(layer_1out, _weights['hc']), _biases['bc'])) \n",
    "    layer_cout = tf.nn.dropout(layer_c, _keep_prob) \n",
    "    \n",
    "    layer_2 = tf.nn.sigmoid(tf.add(tf.matmul(layer_cout, _weights['h2']), _biases['b2'])) \n",
    "    layer_2out = tf.nn.dropout(layer_2, _keep_prob) \n",
    "    return tf.nn.sigmoid(tf.matmul(layer_2out, _weights['out']) + _biases['out'])\n",
    "print (\"NETWORK READY\")"
   ]
  },
  {
   "cell_type": "markdown",
   "metadata": {},
   "source": [
    "# Define Functions"
   ]
  },
  {
   "cell_type": "code",
   "execution_count": 12,
   "metadata": {
    "collapsed": false
   },
   "outputs": [
    {
     "name": "stdout",
     "output_type": "stream",
     "text": [
      "FUNCTIONS READY\n"
     ]
    }
   ],
   "source": [
    "# MODEL\n",
    "out = denoising_autoencoder(x, weights, biases, dropout_keep_prob)\n",
    "# DEFINE LOSS AND OPTIMIZER\n",
    "# cost = tf.reduce_mean(tf.pow(out-y, 2))\n",
    "cost = tf.reduce_mean(tf.abs(out-y))\n",
    "optimizer = tf.train.AdamOptimizer(learning_rate=0.01).minimize(cost) \n",
    "# INITIALIZE\n",
    "init = tf.global_variables_initializer()\n",
    "# SAVER\n",
    "savedir = \"data/nets/\"\n",
    "saver = tf.train.Saver(max_to_keep=3) \n",
    "print (\"FUNCTIONS READY\")"
   ]
  },
  {
   "cell_type": "code",
   "execution_count": null,
   "metadata": {
    "collapsed": true
   },
   "outputs": [],
   "source": [
    "do_train = 1\n",
    "sess = tf.Session(config=tf.ConfigProto(\n",
    "        allow_soft_placement=True, log_device_placement=True))\n",
    "sess.run(init)"
   ]
  },
  {
   "cell_type": "code",
   "execution_count": null,
   "metadata": {
    "collapsed": false
   },
   "outputs": [
    {
     "name": "stdout",
     "output_type": "stream",
     "text": [
      "START OPTIMIZATION\n",
      "Epoch: 000/030 cost: 0.133612559\n"
     ]
    },
    {
     "name": "stderr",
     "output_type": "stream",
     "text": [
      "/usr/lib/pymodules/python2.7/matplotlib/collections.py:548: FutureWarning: elementwise comparison failed; returning scalar instead, but in the future will perform elementwise comparison\n",
      "  if self._edgecolors == 'face':\n"
     ]
    },
    {
     "data": {
      "image/png": "[encoded data removed]",
      "text/plain": [
       "<matplotlib.figure.Figure at 0x7f7adfd20e50>"
      ]
     },
     "metadata": {},
     "output_type": "display_data"
    },
    {
     "data": {
      "image/png": "[encoded data removed]",
      "text/plain": [
       "<matplotlib.figure.Figure at 0x7f7adf571490>"
      ]
     },
     "metadata": {},
     "output_type": "display_data"
    },
    {
     "data": {
      "image/png": "[encoded data removed]",
      "text/plain": [
       "<matplotlib.figure.Figure at 0x7f7adc445c10>"
      ]
     },
     "metadata": {},
     "output_type": "display_data"
    }
   ],
   "source": [
    "training_epochs = 30\n",
    "batch_size      = 100\n",
    "display_step    = 5\n",
    "plot_step       = 10\n",
    "if do_train:\n",
    "    print (\"START OPTIMIZATION\")\n",
    "    for epoch in range(training_epochs):\n",
    "        avg_cost = 0.\n",
    "        num_batch = int(mnist.train.num_examples/batch_size)\n",
    "        for i in range(num_batch): \n",
    "            randidx = np.random.randint(trainimg.shape[0], size=batch_size)\n",
    "            batch_xs = trainimg[randidx, :]\n",
    "            batch_xs_noisy = batch_xs + 0.3*np.random.randn(batch_xs.shape[0], 784)\n",
    "            feed1 = {x: batch_xs_noisy, y: batch_xs, dropout_keep_prob: 0.5}\n",
    "            sess.run(optimizer, feed_dict=feed1)\n",
    "            feed2 = {x: batch_xs_noisy, y: batch_xs, dropout_keep_prob: 1}\n",
    "            avg_cost += sess.run(cost, feed_dict=feed2)/num_batch\n",
    "\n",
    "        # DISPLAY\n",
    "        if epoch % display_step == 0:\n",
    "            print (\"Epoch: %03d/%03d cost: %.9f\" % (epoch, training_epochs, avg_cost))\n",
    "        if epoch % plot_step == 0 or epoch == training_epochs-1:\n",
    "            # TEST\n",
    "            randidx  = np.random.randint(testimg.shape[0], size=1)\n",
    "            testvec  = testimg[randidx, :]\n",
    "            noisyvec = testvec + 0.3*np.random.randn(1, 784)\n",
    "            outvec   = sess.run(out, feed_dict={x: testvec, dropout_keep_prob: 1.})\n",
    "            outimg   = np.reshape(outvec, (28, 28))\n",
    "\n",
    "            # PLOT \n",
    "            plt.matshow(np.reshape(testvec, (28, 28)), cmap=plt.get_cmap('gray'))\n",
    "            plt.title(\"[\" + str(epoch) + \"] Original Image\")\n",
    "            plt.colorbar()\n",
    "            plt.matshow(np.reshape(noisyvec, (28, 28)), cmap=plt.get_cmap('gray'))\n",
    "            plt.title(\"[\" + str(epoch) + \"] Input Image\")\n",
    "            plt.colorbar()\n",
    "            plt.matshow(outimg, cmap=plt.get_cmap('gray'))\n",
    "            plt.title(\"[\" + str(epoch) + \"] Reconstructed Image\")\n",
    "            plt.colorbar()\n",
    "            plt.show()\n",
    "\n",
    "            # SAVE\n",
    "            saver.save(sess, savedir + 'dae_dr.ckpt', global_step=epoch)\n",
    "            \n",
    "    print (\"Optimization Finished!\")\n",
    "else:\n",
    "    print (\"RESTORE\")\n",
    "    saver.restore(sess, \"nets/dae_dr.ckpt-\" + str(training_epochs-1))"
   ]
  },
  {
   "cell_type": "code",
   "execution_count": null,
   "metadata": {
    "collapsed": true
   },
   "outputs": [],
   "source": [
    "# pow loss 가 아닌 squard loss를 사용하게 되면 윤곽선이 선명하게 나온다(abs) : abs로 loss잡아서 결과값도 보기"
   ]
  }
 ],
 "metadata": {
  "kernelspec": {
   "display_name": "Python 2",
   "language": "python",
   "name": "python2"
  },
  "language_info": {
   "codemirror_mode": {
    "name": "ipython",
    "version": 2
   },
   "file_extension": ".py",
   "mimetype": "text/x-python",
   "name": "python",
   "nbconvert_exporter": "python",
   "pygments_lexer": "ipython2",
   "version": "2.7.6"
  }
 },
 "nbformat": 4,
 "nbformat_minor": 0
}
