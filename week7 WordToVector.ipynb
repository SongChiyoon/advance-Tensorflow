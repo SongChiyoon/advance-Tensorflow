{
 "cells": [
  {
   "cell_type": "markdown",
   "metadata": {},
   "source": [
    "# Load packages"
   ]
  },
  {
   "cell_type": "code",
   "execution_count": 1,
   "metadata": {
    "collapsed": false
   },
   "outputs": [
    {
     "name": "stdout",
     "output_type": "stream",
     "text": [
      "Load packages\n"
     ]
    }
   ],
   "source": [
    "import collections\n",
    "import numpy as np\n",
    "import tensorflow as tf\n",
    "import matplotlib\n",
    "import matplotlib.pyplot as plt\n",
    "%matplotlib inline\n",
    "\n",
    "print(\"Load packages\")"
   ]
  },
  {
   "cell_type": "markdown",
   "metadata": {},
   "source": [
    "# Configuration"
   ]
  },
  {
   "cell_type": "code",
   "execution_count": 2,
   "metadata": {
    "collapsed": true
   },
   "outputs": [],
   "source": [
    "batch_size = 20\n",
    "embedding_size = 2\n",
    "num_sampled = 15"
   ]
  },
  {
   "cell_type": "markdown",
   "metadata": {},
   "source": [
    "# Sentences"
   ]
  },
  {
   "cell_type": "code",
   "execution_count": 3,
   "metadata": {
    "collapsed": false
   },
   "outputs": [
    {
     "name": "stdout",
     "output_type": "stream",
     "text": [
      "senetences length is 9\n"
     ]
    }
   ],
   "source": [
    "sentences = [\"the quick brown fox jumped over the lazy dog\",\n",
    "            \"i love cats and dogs\",\n",
    "            \"we all love cats and dogs\",\n",
    "            \"sung likes cats\",\n",
    "            \"she loves dogs\",\n",
    "            \"cats can be very independent\",\n",
    "            \"cats are playful\",\n",
    "            \"cats are natural hunter\",\n",
    "            \"it's raining cats and dogs\"]\n",
    "print(\"senetences length is %d\" %(len(sentences)))"
   ]
  },
  {
   "cell_type": "markdown",
   "metadata": {},
   "source": [
    "# make words"
   ]
  },
  {
   "cell_type": "code",
   "execution_count": 4,
   "metadata": {
    "collapsed": false
   },
   "outputs": [
    {
     "name": "stdout",
     "output_type": "stream",
     "text": [
      "['the', 'quick', 'brown', 'fox', 'jumped', 'over', 'the', 'lazy', 'dog', 'i', 'love', 'cats', 'and', 'dogs', 'we', 'all', 'love', 'cats', 'and', 'dogs', 'sung', 'likes', 'cats', 'she', 'loves', 'dogs', 'cats', 'can', 'be', 'very', 'independent', 'cats', 'are', 'playful', 'cats', 'are', 'natural', 'hunter', \"it's\", 'raining', 'cats', 'and', 'dogs']\n"
     ]
    }
   ],
   "source": [
    "words = \" \".join(sentences).split()\n",
    "print(words)"
   ]
  },
  {
   "cell_type": "code",
   "execution_count": 5,
   "metadata": {
    "collapsed": false
   },
   "outputs": [
    {
     "name": "stdout",
     "output_type": "stream",
     "text": [
      "[('cats', 7), ('dogs', 4), ('and', 3), ('love', 2), ('the', 2), ('are', 2), ('raining', 1), ('all', 1), ('be', 1), ('over', 1), ('we', 1), ('playful', 1), ('likes', 1), ('sung', 1), ('jumped', 1), ('fox', 1), ('she', 1), ('brown', 1), ('lazy', 1), ('very', 1), ('hunter', 1), ('independent', 1), ('natural', 1), ('i', 1), ('dog', 1), ('can', 1), ('loves', 1), (\"it's\", 1), ('quick', 1)]\n"
     ]
    }
   ],
   "source": [
    "count = collections.Counter(words).most_common()\n",
    "print(count)"
   ]
  },
  {
   "cell_type": "markdown",
   "metadata": {},
   "source": [
    "# make Dictionary "
   ]
  },
  {
   "cell_type": "code",
   "execution_count": 6,
   "metadata": {
    "collapsed": false
   },
   "outputs": [
    {
     "name": "stdout",
     "output_type": "stream",
     "text": [
      "['cats', 'dogs', 'and', 'love', 'the', 'are', 'raining', 'all', 'be', 'over', 'we', 'playful', 'likes', 'sung', 'jumped', 'fox', 'she', 'brown', 'lazy', 'very', 'hunter', 'independent', 'natural', 'i', 'dog', 'can', 'loves', \"it's\", 'quick']\n",
      "{'and': 2, 'raining': 6, 'all': 7, 'love': 3, 'be': 8, 'over': 9, 'we': 10, 'playful': 11, 'are': 5, 'sung': 13, 'jumped': 14, 'fox': 15, 'cats': 0, 'dogs': 1, 'can': 25, 'brown': 17, 'lazy': 18, 'very': 19, 'hunter': 20, 'independent': 21, 'natural': 22, 'i': 23, 'dog': 24, 'she': 16, 'loves': 26, \"it's\": 27, 'quick': 28, 'the': 4, 'likes': 12}\n"
     ]
    }
   ],
   "source": [
    "rdic = [i[0] for i in count] #id -> word\n",
    "print(rdic)\n",
    "dic = {w: i for i, w in enumerate (rdic)}  #word -> id\n",
    "voc_size = len(dic)\n",
    "#print(rdic)\n",
    "print(dic)"
   ]
  },
  {
   "cell_type": "code",
   "execution_count": 7,
   "metadata": {
    "collapsed": false
   },
   "outputs": [
    {
     "name": "stdout",
     "output_type": "stream",
     "text": [
      "cats\n",
      "0\n"
     ]
    }
   ],
   "source": [
    "print(rdic[0])\n",
    "print(dic['cats'])"
   ]
  },
  {
   "cell_type": "code",
   "execution_count": 8,
   "metadata": {
    "collapsed": false
   },
   "outputs": [
    {
     "name": "stdout",
     "output_type": "stream",
     "text": [
      "[4, 28, 17, 15, 14, 9, 4, 18, 24, 23, 3, 0, 2, 1, 10, 7, 3, 0, 2, 1, 13, 12, 0, 16, 26, 1, 0, 25, 8, 19, 21, 0, 5, 11, 0, 5, 22, 20, 27, 6, 0, 2, 1]\n"
     ]
    }
   ],
   "source": [
    "data = [dic[word] for word in words]\n",
    "print(data)"
   ]
  },
  {
   "cell_type": "markdown",
   "metadata": {},
   "source": [
    "# Make CBow data"
   ]
  },
  {
   "cell_type": "code",
   "execution_count": 9,
   "metadata": {
    "collapsed": false
   },
   "outputs": [
    {
     "name": "stdout",
     "output_type": "stream",
     "text": [
      "[[[4, 17], 28], [[28, 15], 17], [[17, 14], 15], [[15, 9], 14], [[14, 4], 9], [[9, 18], 4], [[4, 24], 18], [[18, 23], 24], [[24, 3], 23], [[23, 0], 3], [[3, 2], 0], [[0, 1], 2], [[2, 10], 1], [[1, 7], 10], [[10, 3], 7], [[7, 0], 3], [[3, 2], 0], [[0, 1], 2], [[2, 13], 1], [[1, 12], 13], [[13, 0], 12], [[12, 16], 0], [[0, 26], 16], [[16, 1], 26], [[26, 0], 1], [[1, 25], 0], [[0, 8], 25], [[25, 19], 8], [[8, 21], 19], [[19, 0], 21], [[21, 5], 0], [[0, 11], 5], [[5, 0], 11], [[11, 5], 0], [[0, 22], 5], [[5, 20], 22], [[22, 27], 20], [[20, 6], 27], [[27, 0], 6], [[6, 2], 0], [[0, 1], 2]]\n"
     ]
    }
   ],
   "source": [
    "cbow_pairs = []\n",
    "for i in range(1, len(data)-1):\n",
    "    cbow_pairs.append([[data[i-1],data[i+1]], data[i]])\n",
    "print(cbow_pairs)"
   ]
  },
  {
   "cell_type": "markdown",
   "metadata": {},
   "source": [
    "# skip-gram"
   ]
  },
  {
   "cell_type": "code",
   "execution_count": 10,
   "metadata": {
    "collapsed": false
   },
   "outputs": [
    {
     "name": "stdout",
     "output_type": "stream",
     "text": [
      "[[28, 4], [28, 17], [17, 28], [17, 15], [15, 17]]\n"
     ]
    }
   ],
   "source": [
    "skip_gram_pairs = []\n",
    "for c in cbow_pairs:\n",
    "    skip_gram_pairs.append([c[1],c[0][0]])\n",
    "    skip_gram_pairs.append([c[1],c[0][1]])\n",
    "    \n",
    "print(skip_gram_pairs[:5])"
   ]
  },
  {
   "cell_type": "code",
   "execution_count": 11,
   "metadata": {
    "collapsed": true
   },
   "outputs": [],
   "source": [
    "def generate_batch(size):\n",
    "    assert size < len(skip_gram_pairs)\n",
    "    x_data = []\n",
    "    y_data = []\n",
    "    r = np.random.choice(range(len(skip_gram_pairs)), size, replace=False)\n",
    "    for i in r:\n",
    "        x_data.append(skip_gram_pairs[i][0])\n",
    "        y_data.append([skip_gram_pairs[i][1]])\n",
    "    return x_data, y_data"
   ]
  },
  {
   "cell_type": "markdown",
   "metadata": {},
   "source": [
    "# Network"
   ]
  },
  {
   "cell_type": "code",
   "execution_count": 13,
   "metadata": {
    "collapsed": false
   },
   "outputs": [
    {
     "name": "stdout",
     "output_type": "stream",
     "text": [
      "build Network\n"
     ]
    }
   ],
   "source": [
    "train_inputs = tf.placeholder(tf.int32, shape=[batch_size])\n",
    "train_labels = tf.placeholder(tf.int32, shape=[batch_size, 1])\n",
    "\n",
    "embedding = tf.Variable(tf.random_uniform([voc_size, embedding_size], -1.0, 1.0))\n",
    "embed = tf.nn.embedding_lookup(embedding, train_inputs)  #lookup table\n",
    "\n",
    "nce_w = tf.Variable(tf.random_uniform([voc_size, embedding_size],-1.0,1.0))\n",
    "nce_b = tf.Variable(tf.zeros([voc_size]))\n",
    "\n",
    "#loss = tf.reduce_mean(tf.nn.nce_loss(nce_w, nce_b, embed, train_labels, num_sampled, voc_size))\n",
    "loss = tf.reduce_mean(\n",
    "    tf.nn.nce_loss(weights=nce_w, biases=nce_b, inputs=embed, labels=train_labels, \n",
    "                   num_sampled=num_sampled, num_classes=voc_size))\n",
    "\n",
    "\n",
    "optm = tf.train.AdamOptimizer(learning_rate=0.01).minimize(loss)\n",
    "\n",
    "print(\"build Network\")"
   ]
  },
  {
   "cell_type": "code",
   "execution_count": 16,
   "metadata": {
    "collapsed": false
   },
   "outputs": [],
   "source": [
    "with tf.Session() as sess:\n",
    "    sess.run(tf.global_variables_initializer())\n",
    "    for step in range(3000):\n",
    "        batch_x, batch_y = generate_batch(batch_size)\n",
    "        sess.run(optm, feed_dict={train_inputs : batch_x, train_labels : batch_y})\n",
    "        \n",
    "    \n",
    "    trained_embedding = embedding.eval()\n",
    "    "
   ]
  },
  {
   "cell_type": "markdown",
   "metadata": {},
   "source": [
    "# Plot Results"
   ]
  },
  {
   "cell_type": "code",
   "execution_count": 18,
   "metadata": {
    "collapsed": false
   },
   "outputs": [
    {
     "data": {
      "image/png": "[encoded data removed]",
      "text/plain": [
       "<matplotlib.figure.Figure at 0x7fb080b9efd0>"
      ]
     },
     "metadata": {},
     "output_type": "display_data"
    }
   ],
   "source": [
    "if trained_embedding.shape[1] == 2:\n",
    "    labels = rdic[:20]\n",
    "    for i, label in enumerate(labels):\n",
    "        x, y = trained_embedding[i, :]\n",
    "        plt.scatter(x,y)\n",
    "        plt.annotate(label, xy=(x,y), xytext=(5,2), textcoords=\"offset points\", ha=\"right\", va=\"bottom\")\n",
    "    plt.show()"
   ]
  },
  {
   "cell_type": "code",
   "execution_count": null,
   "metadata": {
    "collapsed": true
   },
   "outputs": [],
   "source": []
  }
 ],
 "metadata": {
  "kernelspec": {
   "display_name": "Python 2",
   "language": "python",
   "name": "python2"
  },
  "language_info": {
   "codemirror_mode": {
    "name": "ipython",
    "version": 2
   },
   "file_extension": ".py",
   "mimetype": "text/x-python",
   "name": "python",
   "nbconvert_exporter": "python",
   "pygments_lexer": "ipython2",
   "version": "2.7.6"
  }
 },
 "nbformat": 4,
 "nbformat_minor": 0
}
