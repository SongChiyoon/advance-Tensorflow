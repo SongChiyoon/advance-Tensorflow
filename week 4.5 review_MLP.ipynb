{
 "cells": [
  {
   "cell_type": "code",
   "execution_count": 1,
   "metadata": {
    "collapsed": true
   },
   "outputs": [],
   "source": [
    "import numpy as np\n",
    "import tensorflow as tf\n",
    "from tensorflow.examples.tutorials.mnist import input_data"
   ]
  },
  {
   "cell_type": "code",
   "execution_count": 3,
   "metadata": {
    "collapsed": false
   },
   "outputs": [
    {
     "name": "stdout",
     "output_type": "stream",
     "text": [
      "Extracting data/train-images-idx3-ubyte.gz\n",
      "Extracting data/train-labels-idx1-ubyte.gz\n",
      "Extracting data/t10k-images-idx3-ubyte.gz\n",
      "Extracting data/t10k-labels-idx1-ubyte.gz\n"
     ]
    }
   ],
   "source": [
    "mnist = input_data.read_data_sets('data/', one_hot = True)"
   ]
  },
  {
   "cell_type": "code",
   "execution_count": 14,
   "metadata": {
    "collapsed": false
   },
   "outputs": [
    {
     "name": "stdout",
     "output_type": "stream",
     "text": [
      "(55000, 784)\n"
     ]
    }
   ],
   "source": [
    "print(mnist.train.images.shape)"
   ]
  },
  {
   "cell_type": "code",
   "execution_count": 18,
   "metadata": {
    "collapsed": false
   },
   "outputs": [],
   "source": [
    "n_h1 = 256\n",
    "n_h2 = 128\n",
    "n_h3 = 64\n",
    "n_input = 784\n",
    "n_classes = 10\n",
    "\n",
    "X = tf.placeholder(\"float\", [None, n_input])\n",
    "Y = tf.placeholder(\"float\", [None, n_classes])\n",
    "\n",
    "steddv = 0.1\n",
    "weights = {\n",
    "    'w1': tf.Variable(tf.random_normal([n_input, n_h1], stddev=steddv)),\n",
    "    'w2': tf.Variable(tf.random_normal([n_h1, n_h2], stddev=steddv)),\n",
    "    'w3': tf.Variable(tf.random_normal([n_h2, n_h3], stddev=steddv)),\n",
    "    'w4': tf.Variable(tf.random_normal([n_h3, n_classes], stddev=steddv))\n",
    "}\n",
    "biase = {\n",
    "    'b1' : tf.Variable(tf.random_normal([n_h1])),\n",
    "    'b2' : tf.Variable(tf.random_normal([n_h2])),\n",
    "    'b3' : tf.Variable(tf.random_normal([n_h3])),\n",
    "    'b4' : tf.Variable(tf.random_normal([n_classes]))\n",
    "}"
   ]
  },
  {
   "cell_type": "code",
   "execution_count": 22,
   "metadata": {
    "collapsed": false
   },
   "outputs": [],
   "source": [
    "def MLP(_X, _W, _b):\n",
    "    layer1 = tf.nn.sigmoid(tf.add(tf.matmul(_X, _W['w1']), _b['b1']))\n",
    "    layer2 = tf.nn.sigmoid(tf.add(tf.matmul(layer1, _W['w2']), _b['b2']))\n",
    "    layer3 = tf.nn.sigmoid(tf.add(tf.matmul(layer2, _W['w3']), _b['b3']))\n",
    "    return tf.add(tf.matmul(layer3, _W['w4']), _b['b4'])\n",
    "pre = MLP(X, weights, biase)\n",
    "\n",
    "cost = tf.reduce_mean(tf.nn.softmax_cross_entropy_with_logits(logits=pre, labels=Y))\n",
    "optm = tf.train.AdamOptimizer(learning_rate=0.01).minimize(cost)\n",
    "\n",
    "corr = tf.equal(tf.arg_max(pre,1), tf.arg_max(Y,1))\n",
    "accr = tf.reduce_mean(tf.cast(corr, \"float\"))\n",
    "\n",
    "init = tf.global_variables_initializer()    "
   ]
  },
  {
   "cell_type": "code",
   "execution_count": 26,
   "metadata": {
    "collapsed": false
   },
   "outputs": [
    {
     "name": "stdout",
     "output_type": "stream",
     "text": [
      "epoch : 0, cost : 0.42884\n",
      "('training accuracy : %0.5f', 0.95999998)\n",
      "('test accuracy : %0.5f', 0.94749999)\n",
      "epoch : 2, cost : 0.06735\n",
      "('training accuracy : %0.5f', 0.99000001)\n",
      "('test accuracy : %0.5f', 0.96490002)\n",
      "epoch : 4, cost : 0.04465\n",
      "('training accuracy : %0.5f', 1.0)\n",
      "('test accuracy : %0.5f', 0.972)\n",
      "epoch : 6, cost : 0.03200\n",
      "('training accuracy : %0.5f', 1.0)\n",
      "('test accuracy : %0.5f', 0.9684)\n",
      "epoch : 8, cost : 0.02685\n",
      "('training accuracy : %0.5f', 1.0)\n",
      "('test accuracy : %0.5f', 0.97549999)\n",
      "epoch : 10, cost : 0.02167\n",
      "('training accuracy : %0.5f', 0.99000001)\n",
      "('test accuracy : %0.5f', 0.97530001)\n",
      "epoch : 12, cost : 0.02201\n",
      "('training accuracy : %0.5f', 0.99000001)\n",
      "('test accuracy : %0.5f', 0.9709)\n",
      "epoch : 14, cost : 0.01887\n",
      "('training accuracy : %0.5f', 0.99000001)\n",
      "('test accuracy : %0.5f', 0.9763)\n",
      "epoch : 16, cost : 0.01750\n",
      "('training accuracy : %0.5f', 1.0)\n",
      "('test accuracy : %0.5f', 0.97329998)\n",
      "epoch : 18, cost : 0.01540\n",
      "('training accuracy : %0.5f', 0.99000001)\n",
      "('test accuracy : %0.5f', 0.97320002)\n",
      "Finish\n"
     ]
    }
   ],
   "source": [
    "epochs = 20\n",
    "batch_size = 100\n",
    "\n",
    "sess = tf.Session()\n",
    "sess.run(init)\n",
    "\n",
    "for epoch in range(epochs):\n",
    "    avg_cost = 0\n",
    "    total_batch = int(mnist.train.num_examples/batch_size)\n",
    "    \n",
    "    for i in range(total_batch):\n",
    "        batch_x, batch_y = mnist.train.next_batch(batch_size=batch_size)\n",
    "        feeds = {X : batch_x, Y : batch_y}\n",
    "        sess.run(optm, feeds)\n",
    "        avg_cost += sess.run(cost, feeds)\n",
    "    avg_cost = avg_cost / total_batch\n",
    "    \n",
    "    if epoch % 2 == 0:\n",
    "        print(\"epoch : %d, cost : %0.5f\" % (epoch, avg_cost))\n",
    "        feeds = {X : batch_x, Y : batch_y}\n",
    "        acurracy = sess.run(accr, feeds)\n",
    "        print(\"training accuracy : %0.5f\", acurracy)\n",
    "        test_accr = sess.run(accr, feed_dict = {X : mnist.test.images, Y : mnist.test.labels})\n",
    "        print(\"test accuracy : %0.5f\", test_accr)\n",
    "print(\"Finish\")\n",
    "        "
   ]
  },
  {
   "cell_type": "code",
   "execution_count": null,
   "metadata": {
    "collapsed": true
   },
   "outputs": [],
   "source": []
  }
 ],
 "metadata": {
  "kernelspec": {
   "display_name": "Python 2",
   "language": "python",
   "name": "python2"
  },
  "language_info": {
   "codemirror_mode": {
    "name": "ipython",
    "version": 2
   },
   "file_extension": ".py",
   "mimetype": "text/x-python",
   "name": "python",
   "nbconvert_exporter": "python",
   "pygments_lexer": "ipython2",
   "version": "2.7.6"
  }
 },
 "nbformat": 4,
 "nbformat_minor": 0
}
